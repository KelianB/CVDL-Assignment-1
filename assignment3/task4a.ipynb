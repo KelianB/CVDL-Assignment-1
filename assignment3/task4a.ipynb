{
 "nbformat": 4,
 "nbformat_minor": 2,
 "metadata": {
  "language_info": {
   "name": "python",
   "codemirror_mode": {
    "name": "ipython",
    "version": 3
   },
   "version": "3.7.4-final"
  },
  "orig_nbformat": 2,
  "file_extension": ".py",
  "mimetype": "text/x-python",
  "name": "python",
  "npconvert_exporter": "python",
  "pygments_lexer": "ipython3",
  "version": 3,
  "kernelspec": {
   "name": "python37464bit38c5bcd7d2c74b54880723551477ddb8",
   "display_name": "Python 3.7.4 64-bit"
  }
 },
 "cells": [
  {
   "cell_type": "code",
   "execution_count": null,
   "metadata": {},
   "outputs": [],
   "source": [
    "import torchvision\n",
    "from torch import nn\n",
    "from task2 import Trainer, create_plots, compute_loss_and_accuracy\n",
    "from dataloaders import load_cifar10\n"
   ]
  },
  {
   "cell_type": "code",
   "execution_count": null,
   "metadata": {},
   "outputs": [],
   "source": [
    "\n",
    "class ResNet18TransferModel(nn.Module):\n",
    "    def __init__(self):\n",
    "        super().__init__()\n",
    "        \n",
    "        self.model = torchvision.models.resnet18(pretrained=True)\n",
    "        self.model.fc = nn.Linear(512, 10) # No need to apply softmax, as this is done in nn.CrossEntropyLoss\n",
    "        \n",
    "        for param in self.model.parameters(): # Freeze all parameters\n",
    "            param.requires_grad = False\n",
    "        for param in self.model.fc.parameters(): # Unfreeze the last fully-connected layer\n",
    "            param.requires_grad = True\n",
    "        for param in self.model.layer4.parameters(): # Unfreeze the last 5 convolutional layers\n",
    "            param.requires_grad = True \n",
    "\n",
    "    def forward(self, x):\n",
    "        x = self.model(x)\n",
    "        return x\n"
   ]
  },
  {
   "cell_type": "code",
   "execution_count": null,
   "metadata": {},
   "outputs": [],
   "source": [
    "epochs = 10\n",
    "batch_size = 32\n",
    "learning_rate = 5e-4\n",
    "early_stop_count = 4\n",
    "dataloaders = load_cifar10(\n",
    "    batch_size, \n",
    "    mean=[0.485, 0.456, 0.406], std=[0.229, 0.224, 0.225], \n",
    "    additional_transforms=[torchvision.transforms.Resize(224)]\n",
    ")\n",
    "model = ResNet18TransferModel()\n",
    "trainer = Trainer(\n",
    "    batch_size,\n",
    "    learning_rate,\n",
    "    early_stop_count,\n",
    "    epochs,\n",
    "    model,\n",
    "    dataloaders,\n",
    "    use_adam_optimizer=True\n",
    ")\n",
    "trainer.train()\n",
    "create_plots(trainer, \"task4a\")\n",
    "\n",
    "dataloader_train, dataloader_val, dataloader_test = dataloaders\n",
    "print(\"Train Accuracy:\", compute_loss_and_accuracy(dataloader_train, model, nn.CrossEntropyLoss())[1])\n",
    "print(\"Validation Accuracy:\", compute_loss_and_accuracy(dataloader_val, model, nn.CrossEntropyLoss())[1])\n",
    "print(\"Test Accuracy:\", compute_loss_and_accuracy(dataloader_test, model, nn.CrossEntropyLoss())[1])\n"
   ]
  }
 ]
}